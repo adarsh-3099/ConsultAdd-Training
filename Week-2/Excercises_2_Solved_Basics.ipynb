{
  "cells": [
    {
      "cell_type": "markdown",
      "metadata": {
        "id": "SVMsv3K5ewMq"
      },
      "source": [
        "Write a function translate() that will translate a text into \"rövarspråket\" (Swedish for \"robber's language\"). That is, double every consonant and place an occurrence of \"o\" in between. For example, translate(\"this is fun\") should return the string \"tothohisos isos fofunon\"."
      ]
    },
    {
      "cell_type": "code",
      "execution_count": 14,
      "metadata": {
        "colab": {
          "base_uri": "https://localhost:8080/",
          "height": 35
        },
        "id": "Yp6wxwsDewMs",
        "outputId": "7a80ea3c-2873-4a83-dcd3-1152b2d287e3"
      },
      "outputs": [
        {
          "output_type": "execute_result",
          "data": {
            "application/vnd.google.colaboratory.intrinsic+json": {
              "type": "string"
            },
            "text/plain": [
              "'tothohisos isos fofunon'"
            ]
          },
          "metadata": {},
          "execution_count": 14
        }
      ],
      "source": [
        "# Your Solution here \n",
        "def translate(s):\n",
        "  a = [i for i in s]\n",
        "  vowel = set([\"a\", \"e\", \"i\", \"o\", \"u\", \"A\", \"E\", \"I\", \"O\", \"U\"])\n",
        "  li = []\n",
        "  for i in a:\n",
        "    if i == \" \":\n",
        "      li.append(i)\n",
        "    elif i not in vowel:\n",
        "      li.append(i+\"o\"+i)\n",
        "    else:\n",
        "      li.append(i)\n",
        "  return \"\".join(li)\n",
        "\n",
        "translate(\"this is fun\")"
      ]
    },
    {
      "cell_type": "markdown",
      "metadata": {
        "id": "UWGGRNfdewMt"
      },
      "source": [
        "Define a function sum() and a function multiply() that sums and multiplies (respectively) all the numbers in a list of numbers. For example, sum([1, 2, 3, 4]) should return 10, and multiply([1, 2, 3, 4]) should return 24"
      ]
    },
    {
      "cell_type": "code",
      "execution_count": 16,
      "metadata": {
        "colab": {
          "base_uri": "https://localhost:8080/"
        },
        "id": "M5PsWpdHewMt",
        "outputId": "8cce5ef7-cbe6-4acc-ac3f-f9807bb1de06"
      },
      "outputs": [
        {
          "output_type": "stream",
          "name": "stdout",
          "text": [
            "10\n",
            "24\n"
          ]
        }
      ],
      "source": [
        "def sum(a):\n",
        "  s = 0\n",
        "  for i in a:\n",
        "    s += i\n",
        "  return s \n",
        "\n",
        "def multiply(a):\n",
        "  s = 1\n",
        "  for i in a:\n",
        "    s *= i\n",
        "  return s \n",
        "\n",
        "print(sum([1,2,3,4]))\n",
        "print(multiply([1,2,3,4]))"
      ]
    },
    {
      "cell_type": "markdown",
      "metadata": {
        "id": "ZaKuPlqEewMt"
      },
      "source": [
        "**Define a function reverse() that computes the reversal of a string. For example, reverse(\"I am testing\") should return the string \"gnitset ma I**"
      ]
    },
    {
      "cell_type": "code",
      "execution_count": 1,
      "metadata": {
        "colab": {
          "base_uri": "https://localhost:8080/",
          "height": 35
        },
        "id": "_lRP3yl2ewMu",
        "outputId": "37470be5-0911-45f8-8bf2-0b3cf8df768f"
      },
      "outputs": [
        {
          "output_type": "execute_result",
          "data": {
            "application/vnd.google.colaboratory.intrinsic+json": {
              "type": "string"
            },
            "text/plain": [
              "'gnitset ma I'"
            ]
          },
          "metadata": {},
          "execution_count": 1
        }
      ],
      "source": [
        "def reverse(s):\n",
        "  return s[::-1]\n",
        "\n",
        "reverse(\"I am testing\")"
      ]
    },
    {
      "cell_type": "markdown",
      "metadata": {
        "id": "6kFMifMPewMu"
      },
      "source": [
        "**Define a function is_palindrome() that recognizes palindromes (i.e. words that look the same written backwards). For example, is_palindrome(\"radar\") should return True.**"
      ]
    },
    {
      "cell_type": "code",
      "execution_count": 2,
      "metadata": {
        "colab": {
          "base_uri": "https://localhost:8080/"
        },
        "id": "r_3tu569ewMu",
        "outputId": "6dc515c6-2260-4731-bc1c-a0e4cab201e0"
      },
      "outputs": [
        {
          "output_type": "execute_result",
          "data": {
            "text/plain": [
              "True"
            ]
          },
          "metadata": {},
          "execution_count": 2
        }
      ],
      "source": [
        "def is_palindrome(s):\n",
        "  return s == s[::-1]\n",
        "\n",
        "is_palindrome(\"radar\")"
      ]
    },
    {
      "cell_type": "markdown",
      "metadata": {
        "id": "Sa2fFM7NewMu"
      },
      "source": [
        "**Write a function is_member() that takes a value (i.e. a number, string, etc) x and a list of values a, and returns True if x is a member of a, False otherwise.**"
      ]
    },
    {
      "cell_type": "code",
      "execution_count": 3,
      "metadata": {
        "colab": {
          "base_uri": "https://localhost:8080/"
        },
        "id": "-onOkv6aewMv",
        "outputId": "4700b813-1f77-49fc-caa7-864bccce0328"
      },
      "outputs": [
        {
          "output_type": "execute_result",
          "data": {
            "text/plain": [
              "True"
            ]
          },
          "metadata": {},
          "execution_count": 3
        }
      ],
      "source": [
        "def is_member(x, a):\n",
        "  return x in a\n",
        "\n",
        "is_member(5, [1,2,3,4,5])"
      ]
    },
    {
      "cell_type": "markdown",
      "metadata": {
        "id": "M9ZyphZMewMv"
      },
      "source": [
        "**Define a function overlapping() that takes two lists and returns True if they have at least one member in common, False otherwise. You may use your is_member() function, or the in operator, but for the sake of the exercise, you should (also) write it using two nested for-loops.**"
      ]
    },
    {
      "cell_type": "code",
      "execution_count": 5,
      "metadata": {
        "colab": {
          "base_uri": "https://localhost:8080/"
        },
        "id": "jw4RBrCUewMv",
        "outputId": "d202e68e-b439-469e-bcc5-668992f82242"
      },
      "outputs": [
        {
          "output_type": "stream",
          "name": "stdout",
          "text": [
            "False\n",
            "True\n"
          ]
        }
      ],
      "source": [
        "def overlapping(a, b):\n",
        "  for i in a:\n",
        "    if (is_member(i, b)):\n",
        "      return True\n",
        "  return False\n",
        "\n",
        "print(overlapping([1,2,3,4], [5,6,8,9]))\n",
        "print(overlapping([1,2,3], [4,5,3]))"
      ]
    },
    {
      "cell_type": "markdown",
      "metadata": {
        "id": "mpQKFbFAewMv"
      },
      "source": [
        "# *Define a procedure histogram() that takes a list of integers and prints a histogram to the screen. For example, histogram([4, 9, 7]) should print the following:*(click on next cell to see)\n"
      ]
    },
    {
      "cell_type": "markdown",
      "metadata": {
        "id": "Wz4NikvLewMw"
      },
      "source": [
        "\n",
        "\n",
        "1.   List item\n",
        "\n",
        "1.   List item\n",
        "2.   List item\n",
        "\n",
        "\n",
        "2.   List item\n",
        "\n",
        "\n",
        "****\n",
        "*********\n",
        "*******"
      ]
    },
    {
      "cell_type": "code",
      "execution_count": 6,
      "metadata": {
        "colab": {
          "base_uri": "https://localhost:8080/"
        },
        "id": "dYQyNc_fewMw",
        "outputId": "fb864283-9900-4c30-f2b6-5877da162517"
      },
      "outputs": [
        {
          "output_type": "stream",
          "name": "stdout",
          "text": [
            "****\n",
            "*********\n",
            "*******\n"
          ]
        }
      ],
      "source": [
        "def histogram(a):\n",
        "  for i in a:\n",
        "    print(\"*\"*i)\n",
        "\n",
        "histogram([4,9,7])"
      ]
    },
    {
      "cell_type": "markdown",
      "metadata": {
        "id": "OyO0NRJuewMw"
      },
      "source": [
        "**Write a function char_freq() that takes a string and builds a frequency listing of the characters contained in it. Represent the frequency listing as a Python dictionary. Try it with something like char_freq(\"abbabcbdbabdbdbabababcbcbab\").**\n",
        "\n"
      ]
    },
    {
      "cell_type": "code",
      "execution_count": 7,
      "metadata": {
        "colab": {
          "base_uri": "https://localhost:8080/"
        },
        "id": "snpDUWlsewMx",
        "outputId": "6daf2b17-de5a-4992-d47c-179a47966d5a"
      },
      "outputs": [
        {
          "output_type": "execute_result",
          "data": {
            "text/plain": [
              "{'a': 7, 'b': 14, 'c': 3, 'd': 3}"
            ]
          },
          "metadata": {},
          "execution_count": 7
        }
      ],
      "source": [
        "def char_freq(a):\n",
        "  m = {}\n",
        "  for i in a:\n",
        "    if i in m:\n",
        "      m[i] += 1\n",
        "    else:\n",
        "      m[i] = 1\n",
        "  return m\n",
        "\n",
        "char_freq(\"abbabcbdbabdbdbabababcbcbab\")"
      ]
    },
    {
      "cell_type": "markdown",
      "metadata": {
        "id": "w_Z2wYeDewMx"
      },
      "source": [
        "A certain childrens game involves starting with a word in a particular category. Each participant in turn says a word, but that word must begin with the final letter of the previous word. Once a word has been given, it cannot be repeated. If an opponent cannot give a word in the category, they fall out of the game. For example, with \"animals\" as the category,\n",
        "Child 1: dog \n",
        "Child 2: goldfish\n",
        "Child 1: hippopotamus\n",
        "Child 2: snake\n",
        "...\n",
        "Your task in this exercise is as follows: Take the following selection of 70 English Pokemon names (extracted from Wikipedia's list of Pokemon) and generate the/a sequence with the highest possible number of Pokemon names where the subsequent name starts with the final letter of the preceding name. No Pokemon name is to be repeated.\n",
        "**audino bagon baltoy banette bidoof braviary bronzor carracosta charmeleon\n",
        "cresselia croagunk darmanitan deino emboar emolga exeggcute gabite\n",
        "girafarig gulpin haxorus heatmor heatran ivysaur jellicent jumpluff kangaskhan\n",
        "kricketune landorus ledyba loudred lumineon lunatone machamp magnezone mamoswine\n",
        "nosepass petilil pidgeotto pikachu pinsir poliwrath poochyena porygon2\n",
        "porygonz registeel relicanth remoraid rufflet sableye scolipede scrafty seaking\n",
        "sealeo silcoon simisear snivy snorlax spoink starly tirtouga trapinch treecko\n",
        "tyrogue vigoroth vulpix wailord wartortle whismur wingull yamask**\n",
        "\n"
      ]
    },
    {
      "cell_type": "code",
      "execution_count": 32,
      "metadata": {
        "colab": {
          "base_uri": "https://localhost:8080/",
          "height": 131
        },
        "id": "ftnWIji_ewMx",
        "outputId": "f2a081d3-045d-49af-99b7-618b388a6f8a"
      },
      "outputs": [
        {
          "output_type": "error",
          "ename": "IndentationError",
          "evalue": "ignored",
          "traceback": [
            "\u001b[0;36m  File \u001b[0;32m\"<ipython-input-32-313774c51f5d>\"\u001b[0;36m, line \u001b[0;32m11\u001b[0m\n\u001b[0;31m    def name_starts_with(lastletter, a):\u001b[0m\n\u001b[0m                                        ^\u001b[0m\n\u001b[0;31mIndentationError\u001b[0m\u001b[0;31m:\u001b[0m unindent does not match any outer indentation level\n"
          ]
        }
      ],
      "source": [
        "a = \"\"\"audino bagon baltoy banette bidoof braviary bronzor carracosta charmeleon cresselia croagunk\n",
        " darmanitan deino emboar emolga exeggcute gabite girafarig gulpin haxorus heatmor heatran ivysaur jellicent \n",
        " jumpluff kangaskhan kricketune landorus ledyba loudred lumineon lunatone machamp magnezone mamoswine nosepass\n",
        "  petilil pidgeotto pikachu pinsir poliwrath poochyena porygon2 porygonz registeel relicanth remoraid rufflet \n",
        "  sableye scolipede scrafty seaking sealeo silcoon simisear snivy snorlax spoink starly tirtouga trapinch treecko tyrogue\n",
        "   vigoroth vulpix wailord wartortle whismur wingull yamask\"\"\"\n",
        "print(a)\n",
        "\n",
        "def poke():\n",
        "\tlongest_series, current_series = [], []\n",
        "  def name_starts_with(lastletter, a):\n",
        "\t\tfor index, name in enumerate(a):\n",
        "\t\t\tif name.startswith(lastletter):\n",
        "\t\t\t\treturn index\n",
        "\t\treturn False\n",
        "  for name in a:\n",
        "\t\tcurrent_name = name\n",
        "\t\tcurrent_series.append(current_name)\n",
        "\t\tnamelist = a[:]\n",
        "\t\tnamelist.pop(namelist.index(current_name))\n",
        "\n",
        "\t\tindex = name_starts_with(current_name[-1], namelist)\n",
        "\t\twhile index is not False:\n",
        "\t\t\tcurrent_name = namelist[index]\n",
        "\t\t\tcurrent_series.append(current_name)\n",
        "\t\t\tnamelist.pop(index)\n",
        "\t\t\tindex = name_starts_with(current_name[-1], namelist)\n",
        "\t\tif len(current_series) > len(longest_series):\n",
        "\t\t\tlongest_series = current_series\n",
        "\t\tcurrent_series = []\n",
        "\tprint(longest_series)\n",
        "poke()"
      ]
    },
    {
      "cell_type": "markdown",
      "metadata": {
        "id": "zfmOu1SFewMx"
      },
      "source": [
        "**Write a program able to play the \"Guess the number\"-game, where the number to be guessed is randomly chosen between 1 and 20. (Source: http://inventwithpython.com) This is how it should work when run in a terminal:\n",
        "\n",
        "Hello! What is your name?\n",
        "Torbjörn\n",
        "Well, Torbjörn, I am thinking of a number between 1 and 20.\n",
        "Take a guess.\n",
        "10\n",
        "Your guess is too low.\n",
        "Take a guess.\n",
        "15\n",
        "Your guess is too low.\n",
        "Take a guess.\n",
        "18\n",
        "Good job, Torbjörn! You guessed my number in 3 guesses!***"
      ]
    },
    {
      "cell_type": "code",
      "execution_count": 23,
      "metadata": {
        "colab": {
          "base_uri": "https://localhost:8080/"
        },
        "id": "PcKBFVQ6ewMy",
        "outputId": "cc43df01-65bd-4ad4-9dc5-0cdebc7b7d64"
      },
      "outputs": [
        {
          "output_type": "stream",
          "name": "stdout",
          "text": [
            "ada\n",
            "2\n",
            "4\n",
            "You Guessed it high\n",
            "1\n",
            "You Guessed it low\n",
            "2\n",
            "Right Guess\n",
            "ada ! You guessed my number in 2 gusses\n"
          ]
        }
      ],
      "source": [
        "import random \n",
        "\n",
        "def guess():\n",
        "  gu = random.randint(1,20)\n",
        "  a = input()\n",
        "  c = 0\n",
        "  while True:\n",
        "    n = int(input())\n",
        "    if n == gu:\n",
        "      print(\"Right Guess\")\n",
        "      c += 1\n",
        "      break\n",
        "    elif n > gu:\n",
        "      print(\"You Guessed it high\")\n",
        "      c += 1\n",
        "    else:\n",
        "      print(\"You Guessed it low\")\n",
        "  print(a,\"! You guessed my number in\",str(c),\"gusses\")\n",
        "\n",
        "guess()"
      ]
    },
    {
      "cell_type": "markdown",
      "metadata": {
        "id": "yAeLXQLIewMy"
      },
      "source": [
        "***Write a program that maps a list of words into a list of integers representing the lengths of the correponding words.***\n"
      ]
    },
    {
      "cell_type": "code",
      "execution_count": 18,
      "metadata": {
        "colab": {
          "base_uri": "https://localhost:8080/"
        },
        "id": "KKobhfUUewMy",
        "outputId": "c8ca80f7-9bb6-4349-8ac9-6cb376de9584"
      },
      "outputs": [
        {
          "output_type": "execute_result",
          "data": {
            "text/plain": [
              "{'an': 2, 'example': 7, 'is': 2, 'this': 4}"
            ]
          },
          "metadata": {},
          "execution_count": 18
        }
      ],
      "source": [
        "def map_words(s):\n",
        "  m = {}\n",
        "  a = s.split()\n",
        "  for i in a:\n",
        "    m[i] = len(i)\n",
        "  return m\n",
        "\n",
        "map_words(\"this is an example\")"
      ]
    },
    {
      "cell_type": "code",
      "source": [
        ""
      ],
      "metadata": {
        "id": "zMUYmVYnv4vd"
      },
      "execution_count": null,
      "outputs": []
    }
  ],
  "metadata": {
    "kernelspec": {
      "display_name": "Python 3",
      "language": "python",
      "name": "python3"
    },
    "language_info": {
      "codemirror_mode": {
        "name": "ipython",
        "version": 3
      },
      "file_extension": ".py",
      "mimetype": "text/x-python",
      "name": "python",
      "nbconvert_exporter": "python",
      "pygments_lexer": "ipython3",
      "version": "3.6.8"
    },
    "colab": {
      "name": "Excercises 2  Solved- Basics.ipynb",
      "provenance": []
    }
  },
  "nbformat": 4,
  "nbformat_minor": 0
}